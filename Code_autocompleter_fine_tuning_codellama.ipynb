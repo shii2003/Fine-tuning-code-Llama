{
  "nbformat": 4,
  "nbformat_minor": 0,
  "metadata": {
    "colab": {
      "provenance": [],
      "gpuType": "T4",
      "machine_shape": "hm"
    },
    "kernelspec": {
      "name": "python3",
      "display_name": "Python 3"
    },
    "language_info": {
      "name": "python"
    },
    "accelerator": "GPU"
  },
  "cells": [
    {
      "cell_type": "code",
      "source": [
        "!pip install \"transformers==4.31.0\" \"datasets==2.13.0\" \"peft==0.4.0\" \"accelerate==0.21.0\" \"bitsandbytes==0.40.2\" \"trl==0.4.7\" \"safetensors>=0.3.1\" --upgrade"
      ],
      "metadata": {
        "colab": {
          "base_uri": "https://localhost:8080/"
        },
        "id": "Xq0Igo4nrPc-",
        "outputId": "5f8ce4aa-239e-4266-c3ce-dd8a0ad5753f"
      },
      "execution_count": 1,
      "outputs": [
        {
          "output_type": "stream",
          "name": "stdout",
          "text": [
            "Requirement already satisfied: transformers==4.31.0 in /usr/local/lib/python3.10/dist-packages (4.31.0)\n",
            "Requirement already satisfied: datasets==2.13.0 in /usr/local/lib/python3.10/dist-packages (2.13.0)\n",
            "Requirement already satisfied: peft==0.4.0 in /usr/local/lib/python3.10/dist-packages (0.4.0)\n",
            "Requirement already satisfied: accelerate==0.21.0 in /usr/local/lib/python3.10/dist-packages (0.21.0)\n",
            "Requirement already satisfied: bitsandbytes==0.40.2 in /usr/local/lib/python3.10/dist-packages (0.40.2)\n",
            "Requirement already satisfied: trl==0.4.7 in /usr/local/lib/python3.10/dist-packages (0.4.7)\n",
            "Requirement already satisfied: safetensors>=0.3.1 in /usr/local/lib/python3.10/dist-packages (0.4.0)\n",
            "Requirement already satisfied: filelock in /usr/local/lib/python3.10/dist-packages (from transformers==4.31.0) (3.13.1)\n",
            "Requirement already satisfied: huggingface-hub<1.0,>=0.14.1 in /usr/local/lib/python3.10/dist-packages (from transformers==4.31.0) (0.19.4)\n",
            "Requirement already satisfied: numpy>=1.17 in /usr/local/lib/python3.10/dist-packages (from transformers==4.31.0) (1.23.5)\n",
            "Requirement already satisfied: packaging>=20.0 in /usr/local/lib/python3.10/dist-packages (from transformers==4.31.0) (23.2)\n",
            "Requirement already satisfied: pyyaml>=5.1 in /usr/local/lib/python3.10/dist-packages (from transformers==4.31.0) (6.0.1)\n",
            "Requirement already satisfied: regex!=2019.12.17 in /usr/local/lib/python3.10/dist-packages (from transformers==4.31.0) (2023.6.3)\n",
            "Requirement already satisfied: requests in /usr/local/lib/python3.10/dist-packages (from transformers==4.31.0) (2.31.0)\n",
            "Requirement already satisfied: tokenizers!=0.11.3,<0.14,>=0.11.1 in /usr/local/lib/python3.10/dist-packages (from transformers==4.31.0) (0.13.3)\n",
            "Requirement already satisfied: tqdm>=4.27 in /usr/local/lib/python3.10/dist-packages (from transformers==4.31.0) (4.66.1)\n",
            "Requirement already satisfied: pyarrow>=8.0.0 in /usr/local/lib/python3.10/dist-packages (from datasets==2.13.0) (9.0.0)\n",
            "Requirement already satisfied: dill<0.3.7,>=0.3.0 in /usr/local/lib/python3.10/dist-packages (from datasets==2.13.0) (0.3.6)\n",
            "Requirement already satisfied: pandas in /usr/local/lib/python3.10/dist-packages (from datasets==2.13.0) (1.5.3)\n",
            "Requirement already satisfied: xxhash in /usr/local/lib/python3.10/dist-packages (from datasets==2.13.0) (3.4.1)\n",
            "Requirement already satisfied: multiprocess in /usr/local/lib/python3.10/dist-packages (from datasets==2.13.0) (0.70.14)\n",
            "Requirement already satisfied: fsspec[http]>=2021.11.1 in /usr/local/lib/python3.10/dist-packages (from datasets==2.13.0) (2023.6.0)\n",
            "Requirement already satisfied: aiohttp in /usr/local/lib/python3.10/dist-packages (from datasets==2.13.0) (3.8.6)\n",
            "Requirement already satisfied: psutil in /usr/local/lib/python3.10/dist-packages (from peft==0.4.0) (5.9.5)\n",
            "Requirement already satisfied: torch>=1.13.0 in /usr/local/lib/python3.10/dist-packages (from peft==0.4.0) (2.1.0+cu118)\n",
            "Requirement already satisfied: attrs>=17.3.0 in /usr/local/lib/python3.10/dist-packages (from aiohttp->datasets==2.13.0) (23.1.0)\n",
            "Requirement already satisfied: charset-normalizer<4.0,>=2.0 in /usr/local/lib/python3.10/dist-packages (from aiohttp->datasets==2.13.0) (3.3.2)\n",
            "Requirement already satisfied: multidict<7.0,>=4.5 in /usr/local/lib/python3.10/dist-packages (from aiohttp->datasets==2.13.0) (6.0.4)\n",
            "Requirement already satisfied: async-timeout<5.0,>=4.0.0a3 in /usr/local/lib/python3.10/dist-packages (from aiohttp->datasets==2.13.0) (4.0.3)\n",
            "Requirement already satisfied: yarl<2.0,>=1.0 in /usr/local/lib/python3.10/dist-packages (from aiohttp->datasets==2.13.0) (1.9.2)\n",
            "Requirement already satisfied: frozenlist>=1.1.1 in /usr/local/lib/python3.10/dist-packages (from aiohttp->datasets==2.13.0) (1.4.0)\n",
            "Requirement already satisfied: aiosignal>=1.1.2 in /usr/local/lib/python3.10/dist-packages (from aiohttp->datasets==2.13.0) (1.3.1)\n",
            "Requirement already satisfied: typing-extensions>=3.7.4.3 in /usr/local/lib/python3.10/dist-packages (from huggingface-hub<1.0,>=0.14.1->transformers==4.31.0) (4.5.0)\n",
            "Requirement already satisfied: idna<4,>=2.5 in /usr/local/lib/python3.10/dist-packages (from requests->transformers==4.31.0) (3.4)\n",
            "Requirement already satisfied: urllib3<3,>=1.21.1 in /usr/local/lib/python3.10/dist-packages (from requests->transformers==4.31.0) (2.0.7)\n",
            "Requirement already satisfied: certifi>=2017.4.17 in /usr/local/lib/python3.10/dist-packages (from requests->transformers==4.31.0) (2023.7.22)\n",
            "Requirement already satisfied: sympy in /usr/local/lib/python3.10/dist-packages (from torch>=1.13.0->peft==0.4.0) (1.12)\n",
            "Requirement already satisfied: networkx in /usr/local/lib/python3.10/dist-packages (from torch>=1.13.0->peft==0.4.0) (3.2.1)\n",
            "Requirement already satisfied: jinja2 in /usr/local/lib/python3.10/dist-packages (from torch>=1.13.0->peft==0.4.0) (3.1.2)\n",
            "Requirement already satisfied: triton==2.1.0 in /usr/local/lib/python3.10/dist-packages (from torch>=1.13.0->peft==0.4.0) (2.1.0)\n",
            "Requirement already satisfied: python-dateutil>=2.8.1 in /usr/local/lib/python3.10/dist-packages (from pandas->datasets==2.13.0) (2.8.2)\n",
            "Requirement already satisfied: pytz>=2020.1 in /usr/local/lib/python3.10/dist-packages (from pandas->datasets==2.13.0) (2023.3.post1)\n",
            "Requirement already satisfied: six>=1.5 in /usr/local/lib/python3.10/dist-packages (from python-dateutil>=2.8.1->pandas->datasets==2.13.0) (1.16.0)\n",
            "Requirement already satisfied: MarkupSafe>=2.0 in /usr/local/lib/python3.10/dist-packages (from jinja2->torch>=1.13.0->peft==0.4.0) (2.1.3)\n",
            "Requirement already satisfied: mpmath>=0.19 in /usr/local/lib/python3.10/dist-packages (from sympy->torch>=1.13.0->peft==0.4.0) (1.3.0)\n"
          ]
        }
      ]
    },
    {
      "cell_type": "code",
      "source": [
        "!pip install ipywidgets==7.7.1\n",
        "!pip install huggingface_hub\n",
        "!pip install python-dotenv"
      ],
      "metadata": {
        "colab": {
          "base_uri": "https://localhost:8080/"
        },
        "id": "NFNPWXodrYUH",
        "outputId": "75d04a0f-53d4-48eb-f00d-a181670521ca"
      },
      "execution_count": 2,
      "outputs": [
        {
          "output_type": "stream",
          "name": "stdout",
          "text": [
            "Requirement already satisfied: ipywidgets==7.7.1 in /usr/local/lib/python3.10/dist-packages (7.7.1)\n",
            "Requirement already satisfied: ipykernel>=4.5.1 in /usr/local/lib/python3.10/dist-packages (from ipywidgets==7.7.1) (5.5.6)\n",
            "Requirement already satisfied: ipython-genutils~=0.2.0 in /usr/local/lib/python3.10/dist-packages (from ipywidgets==7.7.1) (0.2.0)\n",
            "Requirement already satisfied: traitlets>=4.3.1 in /usr/local/lib/python3.10/dist-packages (from ipywidgets==7.7.1) (5.7.1)\n",
            "Requirement already satisfied: widgetsnbextension~=3.6.0 in /usr/local/lib/python3.10/dist-packages (from ipywidgets==7.7.1) (3.6.6)\n",
            "Requirement already satisfied: ipython>=4.0.0 in /usr/local/lib/python3.10/dist-packages (from ipywidgets==7.7.1) (7.34.0)\n",
            "Requirement already satisfied: jupyterlab-widgets>=1.0.0 in /usr/local/lib/python3.10/dist-packages (from ipywidgets==7.7.1) (3.0.9)\n",
            "Requirement already satisfied: jupyter-client in /usr/local/lib/python3.10/dist-packages (from ipykernel>=4.5.1->ipywidgets==7.7.1) (6.1.12)\n",
            "Requirement already satisfied: tornado>=4.2 in /usr/local/lib/python3.10/dist-packages (from ipykernel>=4.5.1->ipywidgets==7.7.1) (6.3.2)\n",
            "Requirement already satisfied: setuptools>=18.5 in /usr/local/lib/python3.10/dist-packages (from ipython>=4.0.0->ipywidgets==7.7.1) (67.7.2)\n",
            "Requirement already satisfied: jedi>=0.16 in /usr/local/lib/python3.10/dist-packages (from ipython>=4.0.0->ipywidgets==7.7.1) (0.19.1)\n",
            "Requirement already satisfied: decorator in /usr/local/lib/python3.10/dist-packages (from ipython>=4.0.0->ipywidgets==7.7.1) (4.4.2)\n",
            "Requirement already satisfied: pickleshare in /usr/local/lib/python3.10/dist-packages (from ipython>=4.0.0->ipywidgets==7.7.1) (0.7.5)\n",
            "Requirement already satisfied: prompt-toolkit!=3.0.0,!=3.0.1,<3.1.0,>=2.0.0 in /usr/local/lib/python3.10/dist-packages (from ipython>=4.0.0->ipywidgets==7.7.1) (3.0.41)\n",
            "Requirement already satisfied: pygments in /usr/local/lib/python3.10/dist-packages (from ipython>=4.0.0->ipywidgets==7.7.1) (2.16.1)\n",
            "Requirement already satisfied: backcall in /usr/local/lib/python3.10/dist-packages (from ipython>=4.0.0->ipywidgets==7.7.1) (0.2.0)\n",
            "Requirement already satisfied: matplotlib-inline in /usr/local/lib/python3.10/dist-packages (from ipython>=4.0.0->ipywidgets==7.7.1) (0.1.6)\n",
            "Requirement already satisfied: pexpect>4.3 in /usr/local/lib/python3.10/dist-packages (from ipython>=4.0.0->ipywidgets==7.7.1) (4.8.0)\n",
            "Requirement already satisfied: notebook>=4.4.1 in /usr/local/lib/python3.10/dist-packages (from widgetsnbextension~=3.6.0->ipywidgets==7.7.1) (6.5.5)\n",
            "Requirement already satisfied: parso<0.9.0,>=0.8.3 in /usr/local/lib/python3.10/dist-packages (from jedi>=0.16->ipython>=4.0.0->ipywidgets==7.7.1) (0.8.3)\n",
            "Requirement already satisfied: jinja2 in /usr/local/lib/python3.10/dist-packages (from notebook>=4.4.1->widgetsnbextension~=3.6.0->ipywidgets==7.7.1) (3.1.2)\n",
            "Requirement already satisfied: pyzmq<25,>=17 in /usr/local/lib/python3.10/dist-packages (from notebook>=4.4.1->widgetsnbextension~=3.6.0->ipywidgets==7.7.1) (23.2.1)\n",
            "Requirement already satisfied: argon2-cffi in /usr/local/lib/python3.10/dist-packages (from notebook>=4.4.1->widgetsnbextension~=3.6.0->ipywidgets==7.7.1) (23.1.0)\n",
            "Requirement already satisfied: jupyter-core>=4.6.1 in /usr/local/lib/python3.10/dist-packages (from notebook>=4.4.1->widgetsnbextension~=3.6.0->ipywidgets==7.7.1) (5.5.0)\n",
            "Requirement already satisfied: nbformat in /usr/local/lib/python3.10/dist-packages (from notebook>=4.4.1->widgetsnbextension~=3.6.0->ipywidgets==7.7.1) (5.9.2)\n",
            "Requirement already satisfied: nbconvert>=5 in /usr/local/lib/python3.10/dist-packages (from notebook>=4.4.1->widgetsnbextension~=3.6.0->ipywidgets==7.7.1) (6.5.4)\n",
            "Requirement already satisfied: nest-asyncio>=1.5 in /usr/local/lib/python3.10/dist-packages (from notebook>=4.4.1->widgetsnbextension~=3.6.0->ipywidgets==7.7.1) (1.5.8)\n",
            "Requirement already satisfied: Send2Trash>=1.8.0 in /usr/local/lib/python3.10/dist-packages (from notebook>=4.4.1->widgetsnbextension~=3.6.0->ipywidgets==7.7.1) (1.8.2)\n",
            "Requirement already satisfied: terminado>=0.8.3 in /usr/local/lib/python3.10/dist-packages (from notebook>=4.4.1->widgetsnbextension~=3.6.0->ipywidgets==7.7.1) (0.18.0)\n",
            "Requirement already satisfied: prometheus-client in /usr/local/lib/python3.10/dist-packages (from notebook>=4.4.1->widgetsnbextension~=3.6.0->ipywidgets==7.7.1) (0.18.0)\n",
            "Requirement already satisfied: nbclassic>=0.4.7 in /usr/local/lib/python3.10/dist-packages (from notebook>=4.4.1->widgetsnbextension~=3.6.0->ipywidgets==7.7.1) (1.0.0)\n",
            "Requirement already satisfied: python-dateutil>=2.1 in /usr/local/lib/python3.10/dist-packages (from jupyter-client->ipykernel>=4.5.1->ipywidgets==7.7.1) (2.8.2)\n",
            "Requirement already satisfied: ptyprocess>=0.5 in /usr/local/lib/python3.10/dist-packages (from pexpect>4.3->ipython>=4.0.0->ipywidgets==7.7.1) (0.7.0)\n",
            "Requirement already satisfied: wcwidth in /usr/local/lib/python3.10/dist-packages (from prompt-toolkit!=3.0.0,!=3.0.1,<3.1.0,>=2.0.0->ipython>=4.0.0->ipywidgets==7.7.1) (0.2.10)\n",
            "Requirement already satisfied: platformdirs>=2.5 in /usr/local/lib/python3.10/dist-packages (from jupyter-core>=4.6.1->notebook>=4.4.1->widgetsnbextension~=3.6.0->ipywidgets==7.7.1) (4.0.0)\n",
            "Requirement already satisfied: jupyter-server>=1.8 in /usr/local/lib/python3.10/dist-packages (from nbclassic>=0.4.7->notebook>=4.4.1->widgetsnbextension~=3.6.0->ipywidgets==7.7.1) (1.24.0)\n",
            "Requirement already satisfied: notebook-shim>=0.2.3 in /usr/local/lib/python3.10/dist-packages (from nbclassic>=0.4.7->notebook>=4.4.1->widgetsnbextension~=3.6.0->ipywidgets==7.7.1) (0.2.3)\n",
            "Requirement already satisfied: lxml in /usr/local/lib/python3.10/dist-packages (from nbconvert>=5->notebook>=4.4.1->widgetsnbextension~=3.6.0->ipywidgets==7.7.1) (4.9.3)\n",
            "Requirement already satisfied: beautifulsoup4 in /usr/local/lib/python3.10/dist-packages (from nbconvert>=5->notebook>=4.4.1->widgetsnbextension~=3.6.0->ipywidgets==7.7.1) (4.11.2)\n",
            "Requirement already satisfied: bleach in /usr/local/lib/python3.10/dist-packages (from nbconvert>=5->notebook>=4.4.1->widgetsnbextension~=3.6.0->ipywidgets==7.7.1) (6.1.0)\n",
            "Requirement already satisfied: defusedxml in /usr/local/lib/python3.10/dist-packages (from nbconvert>=5->notebook>=4.4.1->widgetsnbextension~=3.6.0->ipywidgets==7.7.1) (0.7.1)\n",
            "Requirement already satisfied: entrypoints>=0.2.2 in /usr/local/lib/python3.10/dist-packages (from nbconvert>=5->notebook>=4.4.1->widgetsnbextension~=3.6.0->ipywidgets==7.7.1) (0.4)\n",
            "Requirement already satisfied: jupyterlab-pygments in /usr/local/lib/python3.10/dist-packages (from nbconvert>=5->notebook>=4.4.1->widgetsnbextension~=3.6.0->ipywidgets==7.7.1) (0.2.2)\n",
            "Requirement already satisfied: MarkupSafe>=2.0 in /usr/local/lib/python3.10/dist-packages (from nbconvert>=5->notebook>=4.4.1->widgetsnbextension~=3.6.0->ipywidgets==7.7.1) (2.1.3)\n",
            "Requirement already satisfied: mistune<2,>=0.8.1 in /usr/local/lib/python3.10/dist-packages (from nbconvert>=5->notebook>=4.4.1->widgetsnbextension~=3.6.0->ipywidgets==7.7.1) (0.8.4)\n",
            "Requirement already satisfied: nbclient>=0.5.0 in /usr/local/lib/python3.10/dist-packages (from nbconvert>=5->notebook>=4.4.1->widgetsnbextension~=3.6.0->ipywidgets==7.7.1) (0.9.0)\n",
            "Requirement already satisfied: packaging in /usr/local/lib/python3.10/dist-packages (from nbconvert>=5->notebook>=4.4.1->widgetsnbextension~=3.6.0->ipywidgets==7.7.1) (23.2)\n",
            "Requirement already satisfied: pandocfilters>=1.4.1 in /usr/local/lib/python3.10/dist-packages (from nbconvert>=5->notebook>=4.4.1->widgetsnbextension~=3.6.0->ipywidgets==7.7.1) (1.5.0)\n",
            "Requirement already satisfied: tinycss2 in /usr/local/lib/python3.10/dist-packages (from nbconvert>=5->notebook>=4.4.1->widgetsnbextension~=3.6.0->ipywidgets==7.7.1) (1.2.1)\n",
            "Requirement already satisfied: fastjsonschema in /usr/local/lib/python3.10/dist-packages (from nbformat->notebook>=4.4.1->widgetsnbextension~=3.6.0->ipywidgets==7.7.1) (2.19.0)\n",
            "Requirement already satisfied: jsonschema>=2.6 in /usr/local/lib/python3.10/dist-packages (from nbformat->notebook>=4.4.1->widgetsnbextension~=3.6.0->ipywidgets==7.7.1) (4.19.2)\n",
            "Requirement already satisfied: six>=1.5 in /usr/local/lib/python3.10/dist-packages (from python-dateutil>=2.1->jupyter-client->ipykernel>=4.5.1->ipywidgets==7.7.1) (1.16.0)\n",
            "Requirement already satisfied: argon2-cffi-bindings in /usr/local/lib/python3.10/dist-packages (from argon2-cffi->notebook>=4.4.1->widgetsnbextension~=3.6.0->ipywidgets==7.7.1) (21.2.0)\n",
            "Requirement already satisfied: attrs>=22.2.0 in /usr/local/lib/python3.10/dist-packages (from jsonschema>=2.6->nbformat->notebook>=4.4.1->widgetsnbextension~=3.6.0->ipywidgets==7.7.1) (23.1.0)\n",
            "Requirement already satisfied: jsonschema-specifications>=2023.03.6 in /usr/local/lib/python3.10/dist-packages (from jsonschema>=2.6->nbformat->notebook>=4.4.1->widgetsnbextension~=3.6.0->ipywidgets==7.7.1) (2023.11.1)\n",
            "Requirement already satisfied: referencing>=0.28.4 in /usr/local/lib/python3.10/dist-packages (from jsonschema>=2.6->nbformat->notebook>=4.4.1->widgetsnbextension~=3.6.0->ipywidgets==7.7.1) (0.31.0)\n",
            "Requirement already satisfied: rpds-py>=0.7.1 in /usr/local/lib/python3.10/dist-packages (from jsonschema>=2.6->nbformat->notebook>=4.4.1->widgetsnbextension~=3.6.0->ipywidgets==7.7.1) (0.13.0)\n",
            "Requirement already satisfied: anyio<4,>=3.1.0 in /usr/local/lib/python3.10/dist-packages (from jupyter-server>=1.8->nbclassic>=0.4.7->notebook>=4.4.1->widgetsnbextension~=3.6.0->ipywidgets==7.7.1) (3.7.1)\n",
            "Requirement already satisfied: websocket-client in /usr/local/lib/python3.10/dist-packages (from jupyter-server>=1.8->nbclassic>=0.4.7->notebook>=4.4.1->widgetsnbextension~=3.6.0->ipywidgets==7.7.1) (1.6.4)\n",
            "Requirement already satisfied: cffi>=1.0.1 in /usr/local/lib/python3.10/dist-packages (from argon2-cffi-bindings->argon2-cffi->notebook>=4.4.1->widgetsnbextension~=3.6.0->ipywidgets==7.7.1) (1.16.0)\n",
            "Requirement already satisfied: soupsieve>1.2 in /usr/local/lib/python3.10/dist-packages (from beautifulsoup4->nbconvert>=5->notebook>=4.4.1->widgetsnbextension~=3.6.0->ipywidgets==7.7.1) (2.5)\n",
            "Requirement already satisfied: webencodings in /usr/local/lib/python3.10/dist-packages (from bleach->nbconvert>=5->notebook>=4.4.1->widgetsnbextension~=3.6.0->ipywidgets==7.7.1) (0.5.1)\n",
            "Requirement already satisfied: idna>=2.8 in /usr/local/lib/python3.10/dist-packages (from anyio<4,>=3.1.0->jupyter-server>=1.8->nbclassic>=0.4.7->notebook>=4.4.1->widgetsnbextension~=3.6.0->ipywidgets==7.7.1) (3.4)\n",
            "Requirement already satisfied: sniffio>=1.1 in /usr/local/lib/python3.10/dist-packages (from anyio<4,>=3.1.0->jupyter-server>=1.8->nbclassic>=0.4.7->notebook>=4.4.1->widgetsnbextension~=3.6.0->ipywidgets==7.7.1) (1.3.0)\n",
            "Requirement already satisfied: exceptiongroup in /usr/local/lib/python3.10/dist-packages (from anyio<4,>=3.1.0->jupyter-server>=1.8->nbclassic>=0.4.7->notebook>=4.4.1->widgetsnbextension~=3.6.0->ipywidgets==7.7.1) (1.1.3)\n",
            "Requirement already satisfied: pycparser in /usr/local/lib/python3.10/dist-packages (from cffi>=1.0.1->argon2-cffi-bindings->argon2-cffi->notebook>=4.4.1->widgetsnbextension~=3.6.0->ipywidgets==7.7.1) (2.21)\n",
            "Requirement already satisfied: huggingface_hub in /usr/local/lib/python3.10/dist-packages (0.19.4)\n",
            "Requirement already satisfied: filelock in /usr/local/lib/python3.10/dist-packages (from huggingface_hub) (3.13.1)\n",
            "Requirement already satisfied: fsspec>=2023.5.0 in /usr/local/lib/python3.10/dist-packages (from huggingface_hub) (2023.6.0)\n",
            "Requirement already satisfied: requests in /usr/local/lib/python3.10/dist-packages (from huggingface_hub) (2.31.0)\n",
            "Requirement already satisfied: tqdm>=4.42.1 in /usr/local/lib/python3.10/dist-packages (from huggingface_hub) (4.66.1)\n",
            "Requirement already satisfied: pyyaml>=5.1 in /usr/local/lib/python3.10/dist-packages (from huggingface_hub) (6.0.1)\n",
            "Requirement already satisfied: typing-extensions>=3.7.4.3 in /usr/local/lib/python3.10/dist-packages (from huggingface_hub) (4.5.0)\n",
            "Requirement already satisfied: packaging>=20.9 in /usr/local/lib/python3.10/dist-packages (from huggingface_hub) (23.2)\n",
            "Requirement already satisfied: charset-normalizer<4,>=2 in /usr/local/lib/python3.10/dist-packages (from requests->huggingface_hub) (3.3.2)\n",
            "Requirement already satisfied: idna<4,>=2.5 in /usr/local/lib/python3.10/dist-packages (from requests->huggingface_hub) (3.4)\n",
            "Requirement already satisfied: urllib3<3,>=1.21.1 in /usr/local/lib/python3.10/dist-packages (from requests->huggingface_hub) (2.0.7)\n",
            "Requirement already satisfied: certifi>=2017.4.17 in /usr/local/lib/python3.10/dist-packages (from requests->huggingface_hub) (2023.7.22)\n",
            "Requirement already satisfied: python-dotenv in /usr/local/lib/python3.10/dist-packages (1.0.0)\n"
          ]
        }
      ]
    },
    {
      "cell_type": "code",
      "source": [
        "from huggingface_hub import notebook_login\n",
        "notebook_login()"
      ],
      "metadata": {
        "colab": {
          "base_uri": "https://localhost:8080/",
          "height": 164,
          "referenced_widgets": [
            "2ea44b2878e948a1a1f81e3d1cf0554e",
            "98bbeaa957ca43c3a6b4aecd8bd4f0fb",
            "67cfc37c03a74fad9f84fd9a85ae8662",
            "1727fbe885644569b3fa68c38ef2bd21",
            "012fadeb485f4ee7a996ea26afceea83",
            "34d57c32a42f4e6486c71922de2ed186",
            "31c36a68c31b4c359e56c0b3c54eb194",
            "4969827903ce4a8c82badc6f2e5d5b36",
            "4bbe5e9e992e4210a9013124d83edfde",
            "e2f01dbf8e084a93b410588ddde61b07",
            "3167807e1bb24f20a540c7c97562c5fd",
            "0910ba0fbaff4a4db5c0d36d0606d6da",
            "484bc5a4db864b70b41f7241413f86c8",
            "3b4937bfec2749e095d7f2516cb085fb",
            "aa9457c14d7047fe81062faa61d97102",
            "8243008615ee4316bf06049da54d8164",
            "97d45b5c617e40fd95bc1430df32d4b8",
            "0c53571c0fb345468cece41c6d37c2d6",
            "e3bc3eb62b3241e8ad102581b8a1984d",
            "d8d102265d1d4215923d74992866346e",
            "6f254f87f45c4b0c91b156b3887a8146",
            "d613f2cffc4f41bc9c2bb21d5f9236c2",
            "d296e21f565e4dcdb87cdcf76b231516",
            "5e6dde6aa095417bb4b3d718c7f2eb46",
            "351ffad99e2a41c4afaa9631ecbdab1d",
            "b326cab181a34357a8a85a6f32986a25",
            "14aafecc23be4947a180997bb0383a89",
            "3bea9c3f28474938a981ab56bc292fad",
            "13e72d253aba473db1210f1fa3a25625",
            "5770e894a02f476595aa9b94c089373e",
            "0f24910e23da49e494aeb709609c8d62",
            "7609e3d51c4449f4a87148a4b2fdd4bc"
          ]
        },
        "id": "6rRQGNtesAox",
        "outputId": "ec63bb22-e85d-4316-8777-4d04e6ddf4d6"
      },
      "execution_count": null,
      "outputs": [
        {
          "output_type": "display_data",
          "data": {
            "text/plain": [
              "VBox(children=(HTML(value='<center> <img\\nsrc=https://huggingface.co/front/assets/huggingface_logo-noborder.sv\u2026"
            ],
            "application/vnd.jupyter.widget-view+json": {
              "version_major": 2,
              "version_minor": 0,
              "model_id": "2ea44b2878e948a1a1f81e3d1cf0554e"
            }
          },
          "metadata": {}
        }
      ]
    },
    {
      "cell_type": "code",
      "source": [
        "!pip install git+https://github.com/huggingface/transformers.git@main"
      ],
      "metadata": {
        "colab": {
          "base_uri": "https://localhost:8080/"
        },
        "id": "eKNWC-Bt5dGA",
        "outputId": "4fe81780-ba4f-47c9-93ef-fa3219581ec4"
      },
      "execution_count": 3,
      "outputs": [
        {
          "output_type": "stream",
          "name": "stdout",
          "text": [
            "Collecting git+https://github.com/huggingface/transformers.git@main\n",
            "  Cloning https://github.com/huggingface/transformers.git (to revision main) to /tmp/pip-req-build-syh581qt\n",
            "  Running command git clone --filter=blob:none --quiet https://github.com/huggingface/transformers.git /tmp/pip-req-build-syh581qt\n",
            "  Resolved https://github.com/huggingface/transformers.git to commit 8aca43bdb3cb9a5020f6d57589d85679dc873b1c\n",
            "  Installing build dependencies ... \u001b[?25l\u001b[?25hdone\n",
            "  Getting requirements to build wheel ... \u001b[?25l\u001b[?25hdone\n",
            "  Preparing metadata (pyproject.toml) ... \u001b[?25l\u001b[?25hdone\n",
            "Requirement already satisfied: filelock in /usr/local/lib/python3.10/dist-packages (from transformers==4.36.0.dev0) (3.13.1)\n",
            "Requirement already satisfied: huggingface-hub<1.0,>=0.19.3 in /usr/local/lib/python3.10/dist-packages (from transformers==4.36.0.dev0) (0.19.4)\n",
            "Requirement already satisfied: numpy>=1.17 in /usr/local/lib/python3.10/dist-packages (from transformers==4.36.0.dev0) (1.23.5)\n",
            "Requirement already satisfied: packaging>=20.0 in /usr/local/lib/python3.10/dist-packages (from transformers==4.36.0.dev0) (23.2)\n",
            "Requirement already satisfied: pyyaml>=5.1 in /usr/local/lib/python3.10/dist-packages (from transformers==4.36.0.dev0) (6.0.1)\n",
            "Requirement already satisfied: regex!=2019.12.17 in /usr/local/lib/python3.10/dist-packages (from transformers==4.36.0.dev0) (2023.6.3)\n",
            "Requirement already satisfied: requests in /usr/local/lib/python3.10/dist-packages (from transformers==4.36.0.dev0) (2.31.0)\n",
            "Collecting tokenizers<0.19,>=0.14 (from transformers==4.36.0.dev0)\n",
            "  Using cached tokenizers-0.15.0-cp310-cp310-manylinux_2_17_x86_64.manylinux2014_x86_64.whl (3.8 MB)\n",
            "Requirement already satisfied: safetensors>=0.3.1 in /usr/local/lib/python3.10/dist-packages (from transformers==4.36.0.dev0) (0.4.0)\n",
            "Requirement already satisfied: tqdm>=4.27 in /usr/local/lib/python3.10/dist-packages (from transformers==4.36.0.dev0) (4.66.1)\n",
            "Requirement already satisfied: fsspec>=2023.5.0 in /usr/local/lib/python3.10/dist-packages (from huggingface-hub<1.0,>=0.19.3->transformers==4.36.0.dev0) (2023.6.0)\n",
            "Requirement already satisfied: typing-extensions>=3.7.4.3 in /usr/local/lib/python3.10/dist-packages (from huggingface-hub<1.0,>=0.19.3->transformers==4.36.0.dev0) (4.5.0)\n",
            "Requirement already satisfied: charset-normalizer<4,>=2 in /usr/local/lib/python3.10/dist-packages (from requests->transformers==4.36.0.dev0) (3.3.2)\n",
            "Requirement already satisfied: idna<4,>=2.5 in /usr/local/lib/python3.10/dist-packages (from requests->transformers==4.36.0.dev0) (3.4)\n",
            "Requirement already satisfied: urllib3<3,>=1.21.1 in /usr/local/lib/python3.10/dist-packages (from requests->transformers==4.36.0.dev0) (2.0.7)\n",
            "Requirement already satisfied: certifi>=2017.4.17 in /usr/local/lib/python3.10/dist-packages (from requests->transformers==4.36.0.dev0) (2023.7.22)\n",
            "Building wheels for collected packages: transformers\n",
            "  Building wheel for transformers (pyproject.toml) ... \u001b[?25l\u001b[?25hdone\n",
            "  Created wheel for transformers: filename=transformers-4.36.0.dev0-py3-none-any.whl size=8046691 sha256=c7a4d2f6ad4ab5ae74737a8e7f78c601567ccbc991f6c3937d955b4eadd7f3b7\n",
            "  Stored in directory: /tmp/pip-ephem-wheel-cache-0q56os9f/wheels/cf/59/82/6492402e887a68975030bf8c06532260abc16abb7ccd8127cc\n",
            "Successfully built transformers\n",
            "Installing collected packages: tokenizers, transformers\n",
            "  Attempting uninstall: tokenizers\n",
            "    Found existing installation: tokenizers 0.13.3\n",
            "    Uninstalling tokenizers-0.13.3:\n",
            "      Successfully uninstalled tokenizers-0.13.3\n",
            "  Attempting uninstall: transformers\n",
            "    Found existing installation: transformers 4.31.0\n",
            "    Uninstalling transformers-4.31.0:\n",
            "      Successfully uninstalled transformers-4.31.0\n",
            "Successfully installed tokenizers-0.15.0 transformers-4.36.0.dev0\n"
          ]
        }
      ]
    },
    {
      "cell_type": "code",
      "source": [
        "import torch\n",
        "from datasets import load_dataset, Dataset\n",
        "from peft import LoraConfig, AutoPeftModelForCausalLM\n",
        "from transformers import AutoModelForCausalLM, AutoTokenizer, BitsAndBytesConfig, TrainingArguments\n",
        "from transformers import LlamaForCausalLM, LlamaTokenizer\n",
        "from trl import SFTTrainer\n",
        "import os\n",
        "\n",
        "def finetune_llama_v2():\n",
        "    data = load_dataset(\"code_x_glue_tc_nl_code_search_adv\", split=\"validation\")\n",
        "    data_df = data.to_pandas()\n",
        "    data_df[\"text\"] = data_df[[\"docstring\", \"code\"]].apply(lambda x: \"[INST] Docstring: \" + x[\"docstring\"] + \" [/INST] Code: \" + x[\"code\"] + \"\", axis=1)\n",
        "    data = Dataset.from_pandas(data_df)\n",
        "    tokenizer = AutoTokenizer.from_pretrained(\"codellama/CodeLlama-7b-hf\")\n",
        "    tokenizer.pad_token = tokenizer.eos_token\n",
        "    bnb_config = BitsAndBytesConfig(\n",
        "        load_in_4bit=True, bnb_4bit_quant_type=\"nf4\", bnb_4bit_compute_dtype=\"float16\", bnb_4bit_use_double_quant=True\n",
        "    )\n",
        "    model = AutoModelForCausalLM.from_pretrained(\n",
        "        \"codellama/CodeLlama-7b-hf\", quantization_config=bnb_config, device_map=\"auto\"\n",
        "    )\n",
        "    model.config.use_cache=False\n",
        "    model.config.pretraining_tp=1\n",
        "    peft_config = LoraConfig(\n",
        "        r=8, lora_alpha=16, lora_dropout=0.05, bias=\"none\", task_type=\"CAUSAL_LM\"\n",
        "    )\n",
        "    training_arguments = TrainingArguments(\n",
        "        output_dir=\"codellama2-finetuned\",\n",
        "        per_device_train_batch_size=8,\n",
        "        gradient_accumulation_steps=4,\n",
        "        optim=\"paged_adamw_32bit\",\n",
        "        learning_rate=2e-4,\n",
        "        lr_scheduler_type=\"cosine\",\n",
        "        save_strategy=\"epoch\",\n",
        "        logging_steps=10,\n",
        "        num_train_epochs=1,\n",
        "        max_steps=100,\n",
        "        fp16=True,\n",
        "        push_to_hub=True\n",
        "    )\n",
        "    trainer = SFTTrainer(\n",
        "        model=model,\n",
        "        train_dataset=data,\n",
        "        peft_config=peft_config,\n",
        "        dataset_text_field=\"text\",\n",
        "        args=training_arguments,\n",
        "        tokenizer=tokenizer,\n",
        "        packing=False,\n",
        "        max_seq_length=512\n",
        "    )\n",
        "    trainer.train()\n",
        "    trainer.push_to_hub()\n",
        "finetune_llama_v2()"
      ],
      "metadata": {
        "colab": {
          "base_uri": "https://localhost:8080/",
          "height": 1000,
          "referenced_widgets": [
            "c85372c488a34d35b0ebf53fd2098bb6",
            "258c51ddf06c4601a69097fd8a589583",
            "a0826fe535d2411da8147b0874488bdd",
            "cb4e70ae0c3540a694f7508ac1031e2a",
            "be2d09d368cf468ab80b40f9f2952ac8",
            "59d051ba57294dfca1b3002033cf8a21",
            "d6d93646bf5247bab2af09f989ecfef5",
            "a3da67fdf15c469b8d4c9a9d10e15cad",
            "d08edaf347444d2a8dbaa5deef44a0a5",
            "33bcfc4b711a428bb0fab9c5e020fcfa",
            "9a12e0d17b1645b19761ca04e829d45e",
            "e235120badc34f04bbc85478a485f885",
            "1f32824a38814c119e6990d5f81817a3",
            "4a3043f08a3d4a6a9ffaf228036674b4",
            "aa5d968756544f3bb3cd0c291acea081",
            "be055b5456754674a4843ef552b9410e",
            "e0498722419b45578c0f437173df5d94",
            "c162cfbadbfe46b3b6d1f30f17b0a1ea",
            "b580a3fcfad048328b8e882717cc39ea",
            "ceb092bbbd3d4c38bd3c9ca27df10af4",
            "ae15ecb8ae5a4d15858d24a442ba7acf",
            "340021f8c20d4723a438ff8027e0f61d",
            "f05acaa5a08e44adb0182de7a9e25423",
            "cc2e20f3a18242e7a30123dc61af4ffe",
            "3d6aa248f824417f99df06a3bee4057e",
            "d91f915c96b24000a3ee49ca581bfbe3",
            "93aa76836cfc4dd99de69408e77b9768",
            "7a9955497f0041c5ad76c2e2cf731f76",
            "11e7f5cfc9274cc49807d24319643db7",
            "540fccc4f5684704bc916258a639905d",
            "3d867b4133914ab58d0fae4f37ec11f4",
            "1491b6ab4ef141e3bef30dadfaaca3f8",
            "a62f028fb0c140a084b6bc8b502d3ab9",
            "754b9cad9d6b4e109a195711fbe8065a",
            "2b1c49504dc747368c69c39dbece8800",
            "087f6cebb3fe496a92af5e44c5a1be7a",
            "f00f2b8fc222437aa197e33d948388b0",
            "d47db6c103744ecd84a92d7dd1022508",
            "6862255ec719424285d44f2e58364a8b",
            "12162207b5c8463faab5820b345508c2",
            "940e708e2213464f94b5cfe1eb23c426",
            "0eed5915c28e46db86d8c9787e727d93",
            "f4a5bbd497a14237a6d72463ccfe4461",
            "5f9e22ac027541f787b1f5635ffcb050",
            "bf9c54d8e0864fab9051d217b8a536fc",
            "5445c79e9b3f4d44b99d1aab0a1a6953",
            "ab775a8787b4476bb4c81b00afab697d",
            "d321467be901421f893e50d3bf8f437b",
            "3676e83b5e69441886e30c16f8709245",
            "7a64a6807fb14902bfa039421beb7d78",
            "46c1dcfdb2af4b3d8715f51eba5b9fae",
            "20273737efc94724b0fa37ab5c975671",
            "a3382e3cc0fd4ed0b653ffcdd246664a",
            "fbf73ffd313c4f59aa3ae81c960c111e",
            "ec0a9be2459842c79fca7c53154b5669",
            "7ccbc26a66c847f18b3814af833ffbc5",
            "eb981fd700bc4a2cad508fcd835b5cea",
            "63fc309ccebb426ba1ce67c9f0fe03c4",
            "a9428e956f264747a1242d4ab0a300b9",
            "107a2066ce9147d7a022f9fd3cdb2115",
            "3c01909219e246e28ed61585f34209ce",
            "7bfb41954f9f45019c80cb5cbbe4c973",
            "4ece59e6dac24366b799bbf535f0e022",
            "ed9ee4c354a1431491efd7054d7d1d42",
            "982060e73c674c15961e3072d052e51a",
            "748e28d5e6d948e79cb8a424f2ca8802",
            "e1d3f3f0227644d585c0411dc803475d",
            "449b84d964d54632a10045946cb1d6e0",
            "9438f7a79d3b42b5b9c2e6bdb424f394",
            "c8f5886721464d0e9544247d9b5dc374",
            "2178adc922d643baa0f96eed41cb4b92",
            "f40b7b6faa274b04a79179cbe7995a9d",
            "3ff0d9ee8d24477d8608d2c14a7a8328",
            "001268d394404404b0411a406b2dc9ea",
            "2e5f2994a2134be093e4af6297198762",
            "1645d0ccbaa64c479f788ec7afe900a6",
            "9d7f39a42e764c8a968d9ccda1beddad",
            "aac9d9a8b8194babad3c8cf1e7d30e2e",
            "937997dec8f148c2aaecbb254223c3d9",
            "464b4ef7d70a42f8a7e76a93033b299a",
            "19880bc07e4347878808e257c84357c1",
            "fa55ae4ef609484e888eb3c865906551",
            "0ce45a08ae7f4fd99b44b368e7195294",
            "1ff55bff961f42cab61725b04e75d49f",
            "52383a9639004715a63c3236363f8a53",
            "b4395e56e11a4acdac74c4d9fbebe022",
            "e1da612f541e402fba4ead996b81205c",
            "7924ff1e3663440c8b76c55fd81eedf4",
            "3386ce305ada4ed08d74b90e627d5765",
            "0bfed9acec8a46a7b77648ae354fcab4",
            "21d393a14c76499e852f03d582917446",
            "ff7f4613ed064a6185c37d8a41fa87f9",
            "30f48e358623409bb80c5e0478bd2258",
            "00d1ac8721f146e5ac351b62e2966cc3",
            "9a1a3359f29241a68b15a86013d03b1c",
            "a27a54ae9e854a469431f557433c30c0",
            "5cea9617665f475fa90a71d7dd7048e0",
            "95051d22ab5444be89ac99d23ebbef6c",
            "9dd0b8c6f375473c82996163da0fabfa",
            "a82df2cd80fb4a6cafeeb158139cea5a",
            "63d7bfcec20b4ed28378a690c4e09ef5",
            "b63a4c7b54db46f1843466d8d5feef4f",
            "525f3006f6c74709a6d7b134aa91f37b",
            "c71b148dc31d455686055df25195c588",
            "a8ee822130a644aab5652042c502629b",
            "f36d4665733345a8a3c1f2286c5dca35",
            "13312edd6dfa4b8e8f68700eb270faa4",
            "ea9c68872da14cb5b12cbc47d8e74f02",
            "791f391f89b445ddbaddb47b80540485",
            "e377c3372aed4f8f914a8c240172d9c1",
            "5059fe02ddea4fb08ec7d9bfa94186b3",
            "4f1984ab6f93482680f0c6053a8ea2c5",
            "8a3804f120154dccad9a480545e1995e",
            "126b74cb66434c49b633be2a6b5b451e",
            "078a2281879a49f2897f5b1e41b6dba8",
            "d6787328a9c94e3a8d550413c3980207",
            "2dcd3806b8f241aaa380eb3d4eb9a394",
            "910575a7c57840afa6a3e7e1e7561574",
            "03657618286e4307b4dc840e0c132d7b",
            "d6fc602c74ea437e96a709d58326f2c9",
            "1550819f74784f1d91900534482c3d50",
            "376045d8f9144a48bef6aa5c2f981a5b",
            "6ddaf7dd063f42cb8fb68a147e121bee",
            "d3d9c7f051154c0dbb0915a700ba743d",
            "5fa6722254ca4aa2b709b086973b427b",
            "5d008cff61b240268afcd8d31150ee2c",
            "8c9d0070108643429fbc543228489561",
            "0b26688f3b1240a1b53d40d15355fcbb",
            "66b0d448d5274cac899fe25ff0ce4c52",
            "b3626af707f9435bb0ac4b2a8277e1f5",
            "e354be0e3d2943f2bb264ffd594c7b8b",
            "65ff36659b5d414a9d3eae108d384414",
            "b01b9594b1264d4c9845a7d3c6c7dcf1",
            "4905e241ca0e46e3a7fa06550d6042ba",
            "090b8041e8414112882579f088fa8a48",
            "fbd886f84f4b46858aecaae0d44f3794",
            "9403262b089c4baaaf6fa4a5665c709d",
            "65816bcc394341d98aaf19d4b6e4e72e",
            "38a8f543ed7a4e4581efb8ca712ad390",
            "90415d6533ab40a8b49512b50ef33fc5",
            "4544c9cca24949f6bf10aab200aa2125",
            "1c1fca6d1d954fbea8876811eeda0ac3",
            "8739abe9380d4557975872f09b63feb4",
            "be07e00be835431fb988c959d8ae9e2e",
            "159942dfea504b72a78e871dd63e68c4",
            "20363edacfa444768c08f2285692a0bd",
            "32b1ece350aa498ba37eb06760e3c1f2",
            "e809a596db084f4cbc7a412f27744377",
            "4d283a69098649b298a53687609eefc2",
            "ff5c13e0dcd34cf29a502ca5a0481223",
            "a0de9515b60343cab1071232cca08993",
            "b5fbd5b7582c4ffb9b35392773f1a5b0",
            "ec9e1e1a82634212bb652bfcbe8b1cf1",
            "442151ddeda14a53b07a4fe3163142e3",
            "f78c80a0ca874ed78c70a58f34cc81da",
            "f1fda5402397423d846b71829aa0a4bc",
            "46db6c8abab54fe99b16384874bc1cec",
            "3c39712636dc43f7b1179ef01d70b5de",
            "80749ba4e6f94f789d5ffb675248f54a",
            "afd1dd1962e04f058b77e052a538444c",
            "78b136b3b9204f25b5c55a7556a4b760",
            "c5edc8f71bbe4a939f6adbf8c52c8267",
            "4a63e714caed4e6daa29384b3a02034b",
            "5e24c1e71c0545bfa42f64a63d8ca988",
            "4cbb6dcbd0c64138bc6a27edc08835fb",
            "b7d703606ea0457fbc66caca8ffa2582",
            "13a615026f0e4198843b19f034794e52",
            "dd0cf7ba60d74e148161831602c1d667",
            "a139e227704e46bb9bd250d9230fd2e7",
            "f8fafb203a3b4daa9f4c27de9dac973d",
            "a3dec48283ac4f91b807054dd3f58361",
            "d2feab0a343441eaa2ca3c50b26a6409",
            "bb73fb2bbff84740ba8cb06ccc7a81e2",
            "e986eed2c7cc4e99a7cc809e42f33ee3",
            "0859024f70444a54ab2a3c63d4a7cf9a",
            "0cbd02c26cd943e0826c00bb841a37d8",
            "00bbfd735feb4ee788e6ae0825786c0b",
            "8d7b7ba0ddbf4590a014413b666bc51f",
            "bb86e34f6cc7413a9afe50f4e47b4e82",
            "dab84b57162a4959b8a379e27909c432",
            "c5fbcc412a0742a99bbebe7df235254a",
            "928bcfd44707488f802dd4d147386002",
            "c9dbe6b90a8b4de7a8fe00c7ad386a7f",
            "3c89423d9b2d4e4fa60778522ef29181",
            "257952660a3d44feb13afd8f234f77d1",
            "41c2cb37e4a2437596ffd0cfb58935f4",
            "f70541af5fa94d2bb67bd0779cc2c8d2",
            "3ba7080ad97c4886b8dd89d7bb145c87",
            "745e49f6f44749cbb3e593bba64903f5",
            "c355bafdc08c4315a615b106bbceb4c1",
            "f70fadd0ab854e929a28fac66881a96f",
            "a137b3b04c8c42fcaadd6a63a8d621bc",
            "f6875a5a4ee240eca432986b0594e933",
            "687e86ff864b41768c6b27f97e6b733d",
            "18955ce2e9eb45bd979fddc4a8cafdd6",
            "e7608a580ba64cadb10f2b1d455ab056",
            "1de897a246164d408ccfe8773e1bea33",
            "aeab6585220044f295f9e460d5786315",
            "6740de6ca30244929caf3d56c5425af0",
            "480ecdd186e44231bef545c701dfe266",
            "1e891b291bd5456b8cd8d08b0664ddac",
            "0efde96a026d47be81ad0bb84e59968f",
            "ad7802e3e40749df8d027dea462717f8",
            "9b32615d2c034c55aa7aaabf9070f85b",
            "620da0b1efd2480ba45bbdf021154cbe",
            "4469fb9d1b654c00956d75a22a88fd75",
            "d91b3a88b24049419ef90493a1c2533a",
            "db911400086d4f59b75338564358c4c2",
            "1e65db9fe3104d7b9d8a87f7201c511a",
            "048713f2aa29425d92e9f7613bbef0a6",
            "0d0c15e399614707952201c0d4612417",
            "3778a58f965640c7ad1c940e6720bfcd",
            "4afc07587ff7430db841ad84b2c35c46",
            "163c93fc562c44339b0973ae2e23103a",
            "4851959c39584bc6901b52707f035f02",
            "aceb908dc8a1433c90d83f4c4ac0bae8",
            "d80d36e782f44d7691bf363c0bb3428a",
            "ffc67b9fc26f40768cb1a56fd38d08d0",
            "f73593e8f4b744418a8646b18f9e4429",
            "ed06aba344024c52b646e9767af230b6",
            "e34b66d757094a3ca3907503b3402dbd",
            "350e0bb5528044d9a458a2cc6cce1097",
            "f201741203b74c03b937743972dd3f6d",
            "6228f13d62d84b268ecee8efb9866d9a",
            "a2e8ebad79f14096b0770a15fea265a7",
            "7766b43a92bd4baa9bcd3b534c230b67",
            "b501590ff8274cc9950b82ed54d6c607",
            "f7aed83415aa4b01904de7d34c8bae69",
            "e247ad0af06b4d828d5ffbc44ea6d80c",
            "cfe2aedab8844bce822e17b972267db3",
            "9d4698b632df49aabf7c40419542c287",
            "2a179983963f4c039daf90bb550d85d5",
            "e8b8bac0f4124f56bcc7ba6c67893a0c",
            "ee82ca627027488e88056ab6d6c647f6",
            "57dc52dca0474c62933280e07d25443e",
            "c54c67afc6754464ae4945bc9a0b1fb6",
            "dbbe3914917c460a889fb6e8efc0ff65",
            "3a2c62c2c1b0461db1ac812d210ad4d9",
            "5f3baf7280eb4a53bfa211255685ce6f",
            "7e5b6e8fa91b4e74a9f5f030c57c1fcc",
            "77d367c1da46478387ed90a541e35706",
            "81e779bd3c80487b98feecd8c6323221",
            "468cd3c76e444737930126063b09e9a4",
            "75063095b4c043fd891fd70bf95c0df6",
            "fdbaaad8baaf4c7e976f42907130b7eb",
            "a3b123a24be74ce785c96776eb1a5154",
            "3fe50f3559fa4952998359179fa37944",
            "afeeff983fd44e209abaef2993e208dc",
            "056d0936a79c466c817f18bdb28c5ef4",
            "dda51f3a922e4696bab33d611ab633b2",
            "d3ea105d31d84c2aadad9f164867965e",
            "0e150a4877be4fbe96ca21236163b014",
            "7445d9304b4f40cc840dd5a8c552607b",
            "86da89dd9b0c4faaa4c7e3edb2af0dd9",
            "034f68b86ee444d1895a4b1fe30e0656",
            "0ff723873ced4eeb9be75d9817a237d4",
            "46c12d1f379c4f59b687a363132046b8",
            "ff0f328330cd49aeac333ee99f8c6d97",
            "d235c6e4744941f68429a1aa65fdc21a",
            "6987279a0b4a4f2793675ca4d6bf993e",
            "7f840a7cfd924b20970fab0298697b76",
            "76221ee99ca1434aa641a5683b380a3e",
            "f5371a1aff444de8adcb8a6cf362564c",
            "ddfdb95ba255495e90bacd0373b8d55a",
            "ec29329d48ab4f7cb999daa0fc8db2ec",
            "11cdfb3882654969aba70b65525c7b3e",
            "efff998bc87a41668bc91b3119baf831",
            "375a2373dc3f49d694ed2025ca4d99ca",
            "01b5bcb2b4ae4c3987e18e07cb4e6bb6",
            "9f30b2a1a4d54c238410516370193f4f",
            "5c7ed2a2e39a4e85a59328ca46e1cccb",
            "50b6877f96ce49afb715bf8c48eda1ca",
            "cbc4f9a7fe484feb91cb2798dc3cba05",
            "1ed29675e9b049efa1ec6c4e823e11c7",
            "8dcb3142866a4b2396d4e922f71681ad",
            "338fe1875f064863bb4769a8efa5833f",
            "eda6906c357d4dbaba5bc590775d685c",
            "d05d4e590e2d40c981b6656f64a9412b",
            "ab1f51e7d75045a588a499a9598638f5",
            "7fe0f9e710be4e89a1cd8694d613583f",
            "cee112db7a414df4826102f0061a5233",
            "8cb1a982cab947df8765c7de1ff45414",
            "00dbcada17a4462ca96101b215f028e8",
            "7ea3b0fdea2c405d870591c3be225679",
            "4b85b451974a409e991761460c8cd578",
            "8c50470accf742c1948b5c5b4bf327cd",
            "4d2df3e85e2244229727b4d56692be36",
            "61d792351f214f138bb669bae10c037e",
            "b04b50e50c4047f3ae98f4e55ec89a1f",
            "1afcee59c3844b39929aea812816025b",
            "236c4370f388496c9a54fdcf75c2b615",
            "34c20dcdf079413ca9458c2ad7ffa50e",
            "cde652d941a94e90b5ec909524b792fd",
            "e0492ccdf0894c76a8771ae839e1e286",
            "a1c704ee29dd43929ae50f4fb88fe398",
            "0b3017a31276465e923cc69abe29e48a",
            "b50a44acbb7e48a3a2f69fe0794f0065"
          ]
        },
        "id": "wfRNs-sbsC8Q",
        "outputId": "7f969e00-01a6-4124-c8b2-4758a8e6bcff"
      },
      "execution_count": null,
      "outputs": [
        {
          "output_type": "display_data",
          "data": {
            "text/plain": [
              "Downloading builder script:   0%|          | 0.00/8.38k [00:00<?, ?B/s]"
            ],
            "application/vnd.jupyter.widget-view+json": {
              "version_major": 2,
              "version_minor": 0,
              "model_id": "c85372c488a34d35b0ebf53fd2098bb6"
            }
          },
          "metadata": {}
        },
        {
          "output_type": "display_data",
          "data": {
            "text/plain": [
              "Downloading readme:   0%|          | 0.00/11.4k [00:00<?, ?B/s]"
            ],
            "application/vnd.jupyter.widget-view+json": {
              "version_major": 2,
              "version_minor": 0,
              "model_id": "e235120badc34f04bbc85478a485f885"
            }
          },
          "metadata": {}
        },
        {
          "output_type": "display_data",
          "data": {
            "text/plain": [
              "Downloading extra modules:   0%|          | 0.00/2.35k [00:00<?, ?B/s]"
            ],
            "application/vnd.jupyter.widget-view+json": {
              "version_major": 2,
              "version_minor": 0,
              "model_id": "f05acaa5a08e44adb0182de7a9e25423"
            }
          },
          "metadata": {}
        },
        {
          "output_type": "display_data",
          "data": {
            "text/plain": [
              "Downloading extra modules:   0%|          | 0.00/633 [00:00<?, ?B/s]"
            ],
            "application/vnd.jupyter.widget-view+json": {
              "version_major": 2,
              "version_minor": 0,
              "model_id": "754b9cad9d6b4e109a195711fbe8065a"
            }
          },
          "metadata": {}
        },
        {
          "output_type": "stream",
          "name": "stdout",
          "text": [
            "Downloading and preparing dataset code_x_glue_tc_nl_code_search_adv/default to /root/.cache/huggingface/datasets/code_x_glue_tc_nl_code_search_adv/default/0.0.0/e55166784c05156ca8363600092a1133f15d75581c07241645d85d5041e1f81a...\n"
          ]
        },
        {
          "output_type": "display_data",
          "data": {
            "text/plain": [
              "Downloading data files:   0%|          | 0/2 [00:00<?, ?it/s]"
            ],
            "application/vnd.jupyter.widget-view+json": {
              "version_major": 2,
              "version_minor": 0,
              "model_id": "bf9c54d8e0864fab9051d217b8a536fc"
            }
          },
          "metadata": {}
        },
        {
          "output_type": "display_data",
          "data": {
            "text/plain": [
              "Downloading data:   0%|          | 0.00/941M [00:00<?, ?B/s]"
            ],
            "application/vnd.jupyter.widget-view+json": {
              "version_major": 2,
              "version_minor": 0,
              "model_id": "7ccbc26a66c847f18b3814af833ffbc5"
            }
          },
          "metadata": {}
        },
        {
          "output_type": "display_data",
          "data": {
            "text/plain": [
              "Downloading data:   0%|          | 0.00/25.1M [00:00<?, ?B/s]"
            ],
            "application/vnd.jupyter.widget-view+json": {
              "version_major": 2,
              "version_minor": 0,
              "model_id": "e1d3f3f0227644d585c0411dc803475d"
            }
          },
          "metadata": {}
        },
        {
          "output_type": "display_data",
          "data": {
            "text/plain": [
              "Extracting data files:   0%|          | 0/2 [00:00<?, ?it/s]"
            ],
            "application/vnd.jupyter.widget-view+json": {
              "version_major": 2,
              "version_minor": 0,
              "model_id": "aac9d9a8b8194babad3c8cf1e7d30e2e"
            }
          },
          "metadata": {}
        },
        {
          "output_type": "display_data",
          "data": {
            "text/plain": [
              "Downloading data files:   0%|          | 0/2 [00:00<?, ?it/s]"
            ],
            "application/vnd.jupyter.widget-view+json": {
              "version_major": 2,
              "version_minor": 0,
              "model_id": "3386ce305ada4ed08d74b90e627d5765"
            }
          },
          "metadata": {}
        },
        {
          "output_type": "display_data",
          "data": {
            "text/plain": [
              "Extracting data files:   0%|          | 0/2 [00:00<?, ?it/s]"
            ],
            "application/vnd.jupyter.widget-view+json": {
              "version_major": 2,
              "version_minor": 0,
              "model_id": "a82df2cd80fb4a6cafeeb158139cea5a"
            }
          },
          "metadata": {}
        },
        {
          "output_type": "display_data",
          "data": {
            "text/plain": [
              "Downloading data files:   0%|          | 0/2 [00:00<?, ?it/s]"
            ],
            "application/vnd.jupyter.widget-view+json": {
              "version_major": 2,
              "version_minor": 0,
              "model_id": "5059fe02ddea4fb08ec7d9bfa94186b3"
            }
          },
          "metadata": {}
        },
        {
          "output_type": "display_data",
          "data": {
            "text/plain": [
              "Extracting data files:   0%|          | 0/2 [00:00<?, ?it/s]"
            ],
            "application/vnd.jupyter.widget-view+json": {
              "version_major": 2,
              "version_minor": 0,
              "model_id": "376045d8f9144a48bef6aa5c2f981a5b"
            }
          },
          "metadata": {}
        },
        {
          "output_type": "display_data",
          "data": {
            "text/plain": [
              "Generating train split:   0%|          | 0/251820 [00:00<?, ? examples/s]"
            ],
            "application/vnd.jupyter.widget-view+json": {
              "version_major": 2,
              "version_minor": 0,
              "model_id": "b01b9594b1264d4c9845a7d3c6c7dcf1"
            }
          },
          "metadata": {}
        },
        {
          "output_type": "display_data",
          "data": {
            "text/plain": [
              "Generating validation split:   0%|          | 0/9604 [00:00<?, ? examples/s]"
            ],
            "application/vnd.jupyter.widget-view+json": {
              "version_major": 2,
              "version_minor": 0,
              "model_id": "be07e00be835431fb988c959d8ae9e2e"
            }
          },
          "metadata": {}
        },
        {
          "output_type": "display_data",
          "data": {
            "text/plain": [
              "Generating test split:   0%|          | 0/19210 [00:00<?, ? examples/s]"
            ],
            "application/vnd.jupyter.widget-view+json": {
              "version_major": 2,
              "version_minor": 0,
              "model_id": "f78c80a0ca874ed78c70a58f34cc81da"
            }
          },
          "metadata": {}
        },
        {
          "output_type": "stream",
          "name": "stdout",
          "text": [
            "Dataset code_x_glue_tc_nl_code_search_adv downloaded and prepared to /root/.cache/huggingface/datasets/code_x_glue_tc_nl_code_search_adv/default/0.0.0/e55166784c05156ca8363600092a1133f15d75581c07241645d85d5041e1f81a. Subsequent calls will reuse this data.\n"
          ]
        },
        {
          "output_type": "display_data",
          "data": {
            "text/plain": [
              "tokenizer_config.json:   0%|          | 0.00/749 [00:00<?, ?B/s]"
            ],
            "application/vnd.jupyter.widget-view+json": {
              "version_major": 2,
              "version_minor": 0,
              "model_id": "b7d703606ea0457fbc66caca8ffa2582"
            }
          },
          "metadata": {}
        },
        {
          "output_type": "display_data",
          "data": {
            "text/plain": [
              "tokenizer.model:   0%|          | 0.00/500k [00:00<?, ?B/s]"
            ],
            "application/vnd.jupyter.widget-view+json": {
              "version_major": 2,
              "version_minor": 0,
              "model_id": "00bbfd735feb4ee788e6ae0825786c0b"
            }
          },
          "metadata": {}
        },
        {
          "output_type": "display_data",
          "data": {
            "text/plain": [
              "tokenizer.json:   0%|          | 0.00/1.84M [00:00<?, ?B/s]"
            ],
            "application/vnd.jupyter.widget-view+json": {
              "version_major": 2,
              "version_minor": 0,
              "model_id": "3ba7080ad97c4886b8dd89d7bb145c87"
            }
          },
          "metadata": {}
        },
        {
          "output_type": "display_data",
          "data": {
            "text/plain": [
              "special_tokens_map.json:   0%|          | 0.00/411 [00:00<?, ?B/s]"
            ],
            "application/vnd.jupyter.widget-view+json": {
              "version_major": 2,
              "version_minor": 0,
              "model_id": "6740de6ca30244929caf3d56c5425af0"
            }
          },
          "metadata": {}
        },
        {
          "output_type": "display_data",
          "data": {
            "text/plain": [
              "config.json:   0%|          | 0.00/637 [00:00<?, ?B/s]"
            ],
            "application/vnd.jupyter.widget-view+json": {
              "version_major": 2,
              "version_minor": 0,
              "model_id": "048713f2aa29425d92e9f7613bbef0a6"
            }
          },
          "metadata": {}
        },
        {
          "output_type": "display_data",
          "data": {
            "text/plain": [
              "model.safetensors.index.json:   0%|          | 0.00/25.1k [00:00<?, ?B/s]"
            ],
            "application/vnd.jupyter.widget-view+json": {
              "version_major": 2,
              "version_minor": 0,
              "model_id": "e34b66d757094a3ca3907503b3402dbd"
            }
          },
          "metadata": {}
        },
        {
          "output_type": "display_data",
          "data": {
            "text/plain": [
              "Downloading shards:   0%|          | 0/2 [00:00<?, ?it/s]"
            ],
            "application/vnd.jupyter.widget-view+json": {
              "version_major": 2,
              "version_minor": 0,
              "model_id": "2a179983963f4c039daf90bb550d85d5"
            }
          },
          "metadata": {}
        },
        {
          "output_type": "display_data",
          "data": {
            "text/plain": [
              "model-00001-of-00002.safetensors:   0%|          | 0.00/9.98G [00:00<?, ?B/s]"
            ],
            "application/vnd.jupyter.widget-view+json": {
              "version_major": 2,
              "version_minor": 0,
              "model_id": "468cd3c76e444737930126063b09e9a4"
            }
          },
          "metadata": {}
        },
        {
          "output_type": "display_data",
          "data": {
            "text/plain": [
              "model-00002-of-00002.safetensors:   0%|          | 0.00/3.50G [00:00<?, ?B/s]"
            ],
            "application/vnd.jupyter.widget-view+json": {
              "version_major": 2,
              "version_minor": 0,
              "model_id": "86da89dd9b0c4faaa4c7e3edb2af0dd9"
            }
          },
          "metadata": {}
        },
        {
          "output_type": "display_data",
          "data": {
            "text/plain": [
              "Loading checkpoint shards:   0%|          | 0/2 [00:00<?, ?it/s]"
            ],
            "application/vnd.jupyter.widget-view+json": {
              "version_major": 2,
              "version_minor": 0,
              "model_id": "ec29329d48ab4f7cb999daa0fc8db2ec"
            }
          },
          "metadata": {}
        },
        {
          "output_type": "display_data",
          "data": {
            "text/plain": [
              "generation_config.json:   0%|          | 0.00/116 [00:00<?, ?B/s]"
            ],
            "application/vnd.jupyter.widget-view+json": {
              "version_major": 2,
              "version_minor": 0,
              "model_id": "338fe1875f064863bb4769a8efa5833f"
            }
          },
          "metadata": {}
        },
        {
          "output_type": "stream",
          "name": "stderr",
          "text": [
            "/usr/local/lib/python3.10/dist-packages/peft/utils/other.py:102: FutureWarning: prepare_model_for_int8_training is deprecated and will be removed in a future version. Use prepare_model_for_kbit_training instead.\n",
            "  warnings.warn(\n"
          ]
        },
        {
          "output_type": "display_data",
          "data": {
            "text/plain": [
              "Map:   0%|          | 0/9604 [00:00<?, ? examples/s]"
            ],
            "application/vnd.jupyter.widget-view+json": {
              "version_major": 2,
              "version_minor": 0,
              "model_id": "4d2df3e85e2244229727b4d56692be36"
            }
          },
          "metadata": {}
        },
        {
          "output_type": "stream",
          "name": "stderr",
          "text": [
            "You are using 8-bit optimizers with a version of `bitsandbytes` < 0.41.1. It is recommended to update your version as a major bug has been fixed in 8-bit optimizers.\n",
            "You're using a CodeLlamaTokenizerFast tokenizer. Please note that with a fast tokenizer, using the `__call__` method is faster than using a method to encode the text followed by a call to the `pad` method to get a padded encoding.\n",
            "/usr/local/lib/python3.10/dist-packages/torch/utils/checkpoint.py:429: UserWarning: torch.utils.checkpoint: please pass in use_reentrant=True or use_reentrant=False explicitly. The default value of use_reentrant will be updated to be False in the future. To maintain current behavior, pass use_reentrant=True. It is recommended that you use use_reentrant=False. Refer to docs for more details on the differences between the two variants.\n",
            "  warnings.warn(\n"
          ]
        },
        {
          "output_type": "display_data",
          "data": {
            "text/plain": [
              "<IPython.core.display.HTML object>"
            ],
            "text/html": [
              "\n",
              "    <div>\n",
              "      \n",
              "      <progress value='100' max='100' style='width:300px; height:20px; vertical-align: middle;'></progress>\n",
              "      [100/100 21:05, Epoch 0/1]\n",
              "    </div>\n",
              "    <table border=\"1\" class=\"dataframe\">\n",
              "  <thead>\n",
              " <tr style=\"text-align: left;\">\n",
              "      <th>Step</th>\n",
              "      <th>Training Loss</th>\n",
              "    </tr>\n",
              "  </thead>\n",
              "  <tbody>\n",
              "    <tr>\n",
              "      <td>10</td>\n",
              "      <td>1.232500</td>\n",
              "    </tr>\n",
              "    <tr>\n",
              "      <td>20</td>\n",
              "      <td>1.212400</td>\n",
              "    </tr>\n",
              "    <tr>\n",
              "      <td>30</td>\n",
              "      <td>1.173800</td>\n",
              "    </tr>\n",
              "    <tr>\n",
              "      <td>40</td>\n",
              "      <td>1.055500</td>\n",
              "    </tr>\n",
              "    <tr>\n",
              "      <td>50</td>\n",
              "      <td>0.978500</td>\n",
              "    </tr>\n",
              "    <tr>\n",
              "      <td>60</td>\n",
              "      <td>0.940200</td>\n",
              "    </tr>\n",
              "    <tr>\n",
              "      <td>70</td>\n",
              "      <td>0.912000</td>\n",
              "    </tr>\n",
              "    <tr>\n",
              "      <td>80</td>\n",
              "      <td>0.887700</td>\n",
              "    </tr>\n",
              "    <tr>\n",
              "      <td>90</td>\n",
              "      <td>0.911400</td>\n",
              "    </tr>\n",
              "    <tr>\n",
              "      <td>100</td>\n",
              "      <td>0.855300</td>\n",
              "    </tr>\n",
              "  </tbody>\n",
              "</table><p>"
            ]
          },
          "metadata": {}
        }
      ]
    },
    {
      "cell_type": "code",
      "source": [
        "from google.colab import drive\n",
        "drive.mount('/content/drive')"
      ],
      "metadata": {
        "colab": {
          "base_uri": "https://localhost:8080/"
        },
        "id": "GF19DwukM83c",
        "outputId": "4941a403-8d3a-42db-d5c8-d27fb72ee7d9"
      },
      "execution_count": null,
      "outputs": [
        {
          "output_type": "stream",
          "name": "stdout",
          "text": [
            "Mounted at /content/drive\n"
          ]
        }
      ]
    },
    {
      "cell_type": "code",
      "source": [
        "! cp -r /content/codellama2-finetuned /content/drive/MyDrive/savedmodels"
      ],
      "metadata": {
        "id": "qgk-vfUWMEqp"
      },
      "execution_count": null,
      "outputs": []
    },
    {
      "cell_type": "code",
      "source": [
        "from peft import AutoPeftModelForCausalLM, PeftModel\n",
        "from transformers import AutoModelForCausalLM\n",
        "import torch\n",
        "import os\n",
        "model = AutoModelForCausalLM.from_pretrained(\n",
        "            \"codellama/CodeLlama-7b-hf\", torch_dtype=torch.float16, load_in_8bit=False, device_map=\"auto\", trust_remote_code=True)\n"
      ],
      "metadata": {
        "colab": {
          "base_uri": "https://localhost:8080/",
          "height": 77,
          "referenced_widgets": [
            "986434afb3044c5289ef8f1cc8fcf3c1",
            "3d4618be48b94a45ad097d2e74cf2ae5",
            "46faa7958e5a4e50801c76f7e325032c",
            "64e802c081e841c1845896086b638669",
            "6e35113075164f9ab2ccb2b2ab709f0f",
            "0171cf0841724a709329a43719b1f909",
            "7d461d3f311b4ec5a30e771eb2673d09",
            "eba3862319e848e68abad37133a81493",
            "389f4c31db3c4cbc9ba1950bd1ea94f0",
            "205115b3a2164db4aa64d5fbc78f7d33",
            "cce8afcc7f394553aa5f774e0c3bc81e"
          ]
        },
        "id": "TeKGsVNRMTte",
        "outputId": "4e975efc-2de3-4223-8bb1-30e4c96231e3"
      },
      "execution_count": null,
      "outputs": [
        {
          "output_type": "display_data",
          "data": {
            "text/plain": [
              "Loading checkpoint shards:   0%|          | 0/2 [00:00<?, ?it/s]"
            ],
            "application/vnd.jupyter.widget-view+json": {
              "version_major": 2,
              "version_minor": 0,
              "model_id": "986434afb3044c5289ef8f1cc8fcf3c1"
            }
          },
          "metadata": {}
        }
      ]
    },
    {
      "cell_type": "code",
      "source": [
        "peft_model = PeftModel.from_pretrained(model, \"shiiiiiiiiii/codellama2-finetuned\", from_transformers=True, device_map={\"\":0})\n"
      ],
      "metadata": {
        "colab": {
          "base_uri": "https://localhost:8080/",
          "height": 137,
          "referenced_widgets": [
            "c428e58b87904f01b23e4d053656e808",
            "124998ff71c5432899e2792778ebea7f",
            "501e8dc8ed024bf295991da55a9e097b",
            "034c47354c5640089658bb6a6167709e",
            "6a539ec29c6b4037aa37d201a687026e",
            "8005dd79bf054ea5b11d68ff0d9aea48",
            "d7ddd6cdf6c147b0b95e8f2ecf5f4bba",
            "e2d276a1250f49c1baeecdce8820d38e",
            "47bfbc4c61ee43db80e577af24403dcf",
            "97db6d75067a426dae7897179f13408a",
            "bcc09828bdee4d06b35a7763417f4674",
            "e982255156194a5b9c9e3c1dc1758407",
            "09485e4b873742fa91a3ab4468d41d84",
            "5507951554d3490e8a885e86463704b0",
            "92585dfd71ca43e690ddf30712c596c2",
            "a5b3e8add6b24052b679db4c1fe12e39",
            "a2a29a5a3d174ec6b903e78b86a5ae27",
            "9ec246fb69024f359c67d57d1cb578ee",
            "bd4443180a374c0c99c482447480a174",
            "9c65a36c53cc4b0ba7d93871da0c32f4",
            "bf553d2411904b13aeab20a33df7befb",
            "d4b52acb4b504ce481cd374e26932790"
          ]
        },
        "id": "QxX6Sa1ysUs7",
        "outputId": "2dbcde7d-a09c-49a3-801a-5b60ea271a32"
      },
      "execution_count": null,
      "outputs": [
        {
          "output_type": "display_data",
          "data": {
            "text/plain": [
              "adapter_config.json:   0%|          | 0.00/447 [00:00<?, ?B/s]"
            ],
            "application/vnd.jupyter.widget-view+json": {
              "version_major": 2,
              "version_minor": 0,
              "model_id": "c428e58b87904f01b23e4d053656e808"
            }
          },
          "metadata": {}
        },
        {
          "output_type": "display_data",
          "data": {
            "text/plain": [
              "adapter_model.safetensors:   0%|          | 0.00/16.8M [00:00<?, ?B/s]"
            ],
            "application/vnd.jupyter.widget-view+json": {
              "version_major": 2,
              "version_minor": 0,
              "model_id": "e982255156194a5b9c9e3c1dc1758407"
            }
          },
          "metadata": {}
        }
      ]
    },
    {
      "cell_type": "code",
      "source": [
        "model = peft_model.merge_and_unload()"
      ],
      "metadata": {
        "id": "0XX3zN3aPjnU"
      },
      "execution_count": null,
      "outputs": []
    },
    {
      "cell_type": "code",
      "source": [
        "model.push_to_hub(\"codellama2-finetuned-shiii\")"
      ],
      "metadata": {
        "colab": {
          "base_uri": "https://localhost:8080/",
          "height": 316,
          "referenced_widgets": [
            "7a8a8e73a50a486c8d15be37f3811104",
            "ebc04c926f98465280e62be398be079e",
            "7926172d557d4c41932f903a03b23139",
            "d6e48ba06c074dd59b4003329ce18525",
            "9846182a68a443aba75b8a22408ff94e",
            "ac585cfbff2b432484c5b75a80891060",
            "0afc440d8c8449afa1000109d3dce83a",
            "9d19ff0cf97b4f428b63301fd7070fa4",
            "d931b1f173bb4f5a876639a9e5a464eb",
            "6d969d78b64d4c879a847b823c97e3b0",
            "2385724c186349479fab7f2b02ea049b",
            "4a8df7090b3a4ee1ab98877a8b3872c9",
            "9a52ac750ae94a64b2b1908ed3e97dc4",
            "4c074d4b8b1f4e33b26a84bf232be9ca",
            "7b4f6ce875814a9cb42d5a12b197729b",
            "1b6a0690844541c8a0e1f8d264bda7c4",
            "a6026fa91ca147d8ad8096c9bd51554e",
            "7ca12bad937442f89f082e332ef43370",
            "b7d1d9a9b77547eeb5c1804adc05a936",
            "a346ee5761c449feb2a9e28a34169685",
            "396ad0cbd001406083a082bfbbecbecb",
            "c086535a71a14c3f8ce5372c9e4a772f",
            "ba163c77c86a417a9786827fb301fbfd",
            "4efb1b91fdec47ff9531683dfed32b43",
            "ddde38675bca4dbea3258a8daf6fd4d3",
            "be72e51d2d56466ca3e0c6421bab36bf",
            "06f217cf995b4f1091a70608b277f94c",
            "dc2f32856aa946a1afb67bb0bc2a9c20",
            "f3fd290256404d0087aa2afb02edf900",
            "ec7b9f836d814098afff4054150732dd",
            "85d1e74fae0c49fe815b69a41a4a4a0f",
            "0af0815fdb6a46898b7b561c5e0fa4da",
            "57713b9bf905493f83862d3571c27772",
            "6a60718aa0c440509eff0468a478ac59",
            "3da2445c7e704fb69f0307df3e10d589",
            "12d76f5438b94d649f6a87b28efb2b59",
            "8abc274d44d74fa7bed5896b4ecb5dbe",
            "082e87cd5faf432d8fb435f1a637814c",
            "7ad2d9403c614057905a9df1aafd37a2",
            "16a217b5604a4b6d885ddd03f8c923bd",
            "42413efbab4648d0bee847cbd51c9f7f",
            "0fdc06f1066846cea8613539cdc62112",
            "d2076073b1e84cb096adede4bc19db8d",
            "2109c822f94c4c3dafd7685932002341"
          ]
        },
        "id": "N06zu2RqV1pA",
        "outputId": "9e34da3a-7267-4b41-d193-b7dbe8597fb6"
      },
      "execution_count": null,
      "outputs": [
        {
          "output_type": "display_data",
          "data": {
            "text/plain": [
              "Upload 3 LFS files:   0%|          | 0/3 [00:00<?, ?it/s]"
            ],
            "application/vnd.jupyter.widget-view+json": {
              "version_major": 2,
              "version_minor": 0,
              "model_id": "7a8a8e73a50a486c8d15be37f3811104"
            }
          },
          "metadata": {}
        },
        {
          "output_type": "display_data",
          "data": {
            "text/plain": [
              "model-00002-of-00003.safetensors:   0%|          | 0.00/4.95G [00:00<?, ?B/s]"
            ],
            "application/vnd.jupyter.widget-view+json": {
              "version_major": 2,
              "version_minor": 0,
              "model_id": "4a8df7090b3a4ee1ab98877a8b3872c9"
            }
          },
          "metadata": {}
        },
        {
          "output_type": "display_data",
          "data": {
            "text/plain": [
              "model-00003-of-00003.safetensors:   0%|          | 0.00/3.59G [00:00<?, ?B/s]"
            ],
            "application/vnd.jupyter.widget-view+json": {
              "version_major": 2,
              "version_minor": 0,
              "model_id": "ba163c77c86a417a9786827fb301fbfd"
            }
          },
          "metadata": {}
        },
        {
          "output_type": "display_data",
          "data": {
            "text/plain": [
              "model-00001-of-00003.safetensors:   0%|          | 0.00/4.94G [00:00<?, ?B/s]"
            ],
            "application/vnd.jupyter.widget-view+json": {
              "version_major": 2,
              "version_minor": 0,
              "model_id": "6a60718aa0c440509eff0468a478ac59"
            }
          },
          "metadata": {}
        },
        {
          "output_type": "execute_result",
          "data": {
            "text/plain": [
              "CommitInfo(commit_url='https://huggingface.co/shiiiiiiiiii/codellama2-finetuned-shiii/commit/53c954c6511af7ccc5f7969105c35e065e375512', commit_message='Upload LlamaForCausalLM', commit_description='', oid='53c954c6511af7ccc5f7969105c35e065e375512', pr_url=None, pr_revision=None, pr_num=None)"
            ]
          },
          "metadata": {},
          "execution_count": 11
        }
      ]
    },
    {
      "cell_type": "code",
      "source": [
        "from transformers import AutoTokenizer\n",
        "tokenizer = AutoTokenizer.from_pretrained(\"codellama/CodeLlama-7b-hf\")\n",
        "tokenizer.push_to_hub(\"codellama2-finetuned-shiii\")"
      ],
      "metadata": {
        "colab": {
          "base_uri": "https://localhost:8080/"
        },
        "id": "PtGHa5D5WCnj",
        "outputId": "3aeb155e-fdfc-4cba-a3df-2498823249ca"
      },
      "execution_count": null,
      "outputs": [
        {
          "output_type": "execute_result",
          "data": {
            "text/plain": [
              "CommitInfo(commit_url='https://huggingface.co/shiiiiiiiiii/codellama2-finetuned-shiii/commit/ed7f9c2e07638a287383440e083db86ce54e4f4a', commit_message='Upload tokenizer', commit_description='', oid='ed7f9c2e07638a287383440e083db86ce54e4f4a', pr_url=None, pr_revision=None, pr_num=None)"
            ]
          },
          "metadata": {},
          "execution_count": 12
        }
      ]
    },
    {
      "cell_type": "code",
      "source": [
        "from transformers import AutoTokenizer\n",
        "from transformers import pipeline\n",
        "import torch\n",
        "\n",
        "tokenizer = AutoTokenizer.from_pretrained(\"shiiiiiiiiii/codellama2-finetuned-shiii\")\n",
        "pipe = pipeline(\n",
        "    \"text-generation\",\n",
        "    model=\"shiiiiiiiiii/codellama2-finetuned-shiii\",\n",
        "    torch_dtype=torch.float16,\n",
        "    device_map=\"auto\",\n",
        ")"
      ],
      "metadata": {
        "colab": {
          "base_uri": "https://localhost:8080/",
          "height": 241,
          "referenced_widgets": [
            "a87b5f9694fb4a86ae3b2d3c17bcf79b",
            "4308bbec892f4e5c85e74cc621f137c4",
            "a25ec82d820549d392a052853a5beeb5",
            "316504a58ff144d18cfb21d96cb54e24",
            "b767cdaf21fd4b4eab1fcc503e1c3ad8",
            "2aded28bd8e34739a7ed7ecd10797411",
            "21a717e607b840f199fd613c615411de",
            "e26e8d7d5a31403b87354aacb92282f0",
            "7d20d555d6ed4a9598f1165ff5d95368",
            "0a63fea28eb7473d88dbccef0b7dc5d8",
            "316ac8fc42af48cf9698c0db491d1302",
            "c719b8c5039c47c19d4da5ae553ae4d2",
            "14711d1e297c431ca7424333737669c7",
            "1e33458453014e37a22fa98a275a7c9f",
            "f7b51334da9b4ba887e0efc0368f78e3",
            "946f392d11dc429e91b3a66e646bb661",
            "a0df3b1f15c64a908eb69c8f347b762e",
            "f2dc8d1259e94f08ac283c929d0a832e",
            "c06dd93407e44fdfa0165f14cfde7d85",
            "d785523634bb4893add6a025435269c0",
            "8002d898871d4c868ff136829b451785",
            "04442d74db44499684c81eaadc9433e7",
            "6ab56d6ef1bb4359aa329994d9cd3533",
            "62696ba9beb346db915d12684e1d64ef",
            "c3d18e824f784022989a42e4ec83d25c",
            "1fac944a98af4c22b6c730df3478e202",
            "91dfbe3e733a40559183e69f857f7164",
            "7ae20f114d844d79b7a9fa5b8b8ad449",
            "4501b5e390b648a58a38d50781593c26",
            "62979f07c2d24d8494a6f331724ae79e",
            "7bf46fabc3ce4ce3a729e161a0062163",
            "5b24fff754664fd4abb2362c79db69e7",
            "13d74e211fe0412198e8ee2afa3c0629",
            "2f7f494f2bbb46f2829bf4eb665286d4",
            "33a04aa5751d4aba8497c767f0be96f6",
            "619ecb8303ae46c8815aad10add29b68",
            "9994233ad3aa441b8ae9bca30f4d9e63",
            "d015d93ff9ed428290911594f47246ab",
            "fd33542966974438bdc8be97b3de9574",
            "0647d9ae1c5340b5bfb8febf191f5657",
            "c7478e37a7c94f978bf4157a5880cae6",
            "925747d4228e45d79da42d98932e603b",
            "7adbea79e26a42d38f82449cacafaba0",
            "6f0ab652f0c34b57ab4c1ab741577406",
            "7474e5c3dca54eff9be744d5afff8d74",
            "b8e84b48f961418ebe79cc8b2b49433a",
            "c981e841188a443f9df5c54d8d5394cc",
            "105db98089f04f9f9242c9a7f8e7822f",
            "01963d385f7a4eb787712ef0d004c81e",
            "8ba9387a8b164a56b30ca49caeba6532",
            "d77aa05adfb14481a3d252386f2a8568",
            "249fb2e476b24b87b337e8de134d0b59",
            "7c9c84589d09465bb0a6c7daa5e1e21b",
            "4a7bbadf04034276bbea1137626b1895",
            "b07600cbde6f46419ec2f73e4bd009fd",
            "1bfff5a7c6bd4bd7a72b072e2cbc97b0",
            "fffc45590f6d413fa5f1470ea7a21e0e",
            "c7a7f99eab4241c58cffa864532228de",
            "c3a56bd1058b4e97bfb45b40072e7d59",
            "a72db10f2d5f4f4e9eaeeddc6a7891d7",
            "1f3bd974015d40e186f3d7cc0c4eb9c5",
            "755b6ad2760249a1aa5c019ea917a669",
            "f7646978eb8a4ccd9c9b063046230e6d",
            "4a5d721c095846a8ace305e5644b02db",
            "4ddc98202aaf4d7daf9c497d44b3c309",
            "54fde2063aec422eab244c677c2a2134",
            "d51e434678e64eb2ace8623997c8e4e7",
            "26731789d7ac46dcacdd401cce78c087",
            "e12e034bf40345cf804361e0b8b216c8",
            "c499e1a02a8b4cd69b9ab72522bac8b8",
            "9d6df0e9756a44b8be067d10f2c66072",
            "722eb03984644082b1c67266ddbe659a",
            "23579fdf80704c27847844ff79d927c7",
            "5894824e8169457590df807ad8706e53",
            "0459854235694fa29351cc080db97095",
            "e2f61b3bff2a4da1969db5b357d00e55",
            "42d8d2d4e9cb4d8b820e32a44adce026"
          ]
        },
        "id": "4ycnNV5KXRc5",
        "outputId": "d14ac92d-35f3-4260-a8e9-1b1245347fdc"
      },
      "execution_count": 4,
      "outputs": [
        {
          "output_type": "display_data",
          "data": {
            "text/plain": [
              "model.safetensors.index.json:   0%|          | 0.00/23.9k [00:00<?, ?B/s]"
            ],
            "application/vnd.jupyter.widget-view+json": {
              "version_major": 2,
              "version_minor": 0,
              "model_id": "a87b5f9694fb4a86ae3b2d3c17bcf79b"
            }
          },
          "metadata": {}
        },
        {
          "output_type": "display_data",
          "data": {
            "text/plain": [
              "Downloading shards:   0%|          | 0/3 [00:00<?, ?it/s]"
            ],
            "application/vnd.jupyter.widget-view+json": {
              "version_major": 2,
              "version_minor": 0,
              "model_id": "c719b8c5039c47c19d4da5ae553ae4d2"
            }
          },
          "metadata": {}
        },
        {
          "output_type": "display_data",
          "data": {
            "text/plain": [
              "model-00001-of-00003.safetensors:   0%|          | 0.00/4.94G [00:00<?, ?B/s]"
            ],
            "application/vnd.jupyter.widget-view+json": {
              "version_major": 2,
              "version_minor": 0,
              "model_id": "6ab56d6ef1bb4359aa329994d9cd3533"
            }
          },
          "metadata": {}
        },
        {
          "output_type": "display_data",
          "data": {
            "text/plain": [
              "model-00002-of-00003.safetensors:   0%|          | 0.00/4.95G [00:00<?, ?B/s]"
            ],
            "application/vnd.jupyter.widget-view+json": {
              "version_major": 2,
              "version_minor": 0,
              "model_id": "2f7f494f2bbb46f2829bf4eb665286d4"
            }
          },
          "metadata": {}
        },
        {
          "output_type": "display_data",
          "data": {
            "text/plain": [
              "model-00003-of-00003.safetensors:   0%|          | 0.00/3.59G [00:00<?, ?B/s]"
            ],
            "application/vnd.jupyter.widget-view+json": {
              "version_major": 2,
              "version_minor": 0,
              "model_id": "7474e5c3dca54eff9be744d5afff8d74"
            }
          },
          "metadata": {}
        },
        {
          "output_type": "display_data",
          "data": {
            "text/plain": [
              "Loading checkpoint shards:   0%|          | 0/3 [00:00<?, ?it/s]"
            ],
            "application/vnd.jupyter.widget-view+json": {
              "version_major": 2,
              "version_minor": 0,
              "model_id": "1bfff5a7c6bd4bd7a72b072e2cbc97b0"
            }
          },
          "metadata": {}
        },
        {
          "output_type": "display_data",
          "data": {
            "text/plain": [
              "generation_config.json:   0%|          | 0.00/116 [00:00<?, ?B/s]"
            ],
            "application/vnd.jupyter.widget-view+json": {
              "version_major": 2,
              "version_minor": 0,
              "model_id": "d51e434678e64eb2ace8623997c8e4e7"
            }
          },
          "metadata": {}
        }
      ]
    },
    {
      "cell_type": "code",
      "source": [
        "sequences = pipe(\n",
        "    'def fibonacci(',\n",
        "    do_sample=True,\n",
        "    temperature=0.2,\n",
        "    top_p=0.9,\n",
        "    num_return_sequences=1,\n",
        "    eos_token_id=tokenizer.eos_token_id,\n",
        "    max_length=100,\n",
        ")\n",
        "for seq in sequences:\n",
        "    print(f\"Result: {seq['generated_text']}\")"
      ],
      "metadata": {
        "colab": {
          "base_uri": "https://localhost:8080/"
        },
        "id": "QSkaKTBKXe_t",
        "outputId": "60b6762a-17b1-4846-fe19-9184d80d2c4d"
      },
      "execution_count": 5,
      "outputs": [
        {
          "output_type": "stream",
          "name": "stderr",
          "text": [
            "Setting `pad_token_id` to `eos_token_id`:2 for open-end generation.\n"
          ]
        },
        {
          "output_type": "stream",
          "name": "stdout",
          "text": [
            "Result: def fibonacci(n):\n",
            "    if n == 0:\n",
            "        return 0\n",
            "    elif n == 1:\n",
            "        return 1\n",
            "    else:\n",
            "        return fibonacci(n - 1) + fibonacci(n - 2)\n",
            "\n",
            "\n",
            "def fibonacci_recursive(n):\n",
            "    if n == 0:\n",
            "        return 0\n",
            "    elif n == 1:\n",
            "        return 1\n",
            "   \n"
          ]
        }
      ]
    },
    {
      "cell_type": "code",
      "source": [
        "sequences = pipe(\n",
        "    'def sum(',\n",
        "    do_sample=True,\n",
        "    temperature=0.2,\n",
        "    top_p=0.9,\n",
        "    num_return_sequences=1,\n",
        "    eos_token_id=tokenizer.eos_token_id,\n",
        "    max_length=100,\n",
        ")\n",
        "for seq in sequences:\n",
        "    print(f\"Result: {seq['generated_text']}\")"
      ],
      "metadata": {
        "colab": {
          "base_uri": "https://localhost:8080/"
        },
        "id": "lbR4k0AhnYuR",
        "outputId": "cf92a5cf-22ab-4a6f-986a-7114f1560210"
      },
      "execution_count": 6,
      "outputs": [
        {
          "output_type": "stream",
          "name": "stderr",
          "text": [
            "Setting `pad_token_id` to `eos_token_id`:2 for open-end generation.\n"
          ]
        },
        {
          "output_type": "stream",
          "name": "stdout",
          "text": [
            "Result: def sum(self, x):\n",
            "        return x + 1\n",
            "\n",
            "    def __call__(self, x):\n",
            "        return x + 1\n",
            "\n",
            "    def __get__(self, instance, owner):\n",
            "        return lambda x: x + 1\n",
            "\n",
            "    def __set__(self, instance, value):\n",
            "        pass\n",
            "\n",
            "    def __delete__(self, instance):\n",
            "        pass\n",
            "\n",
            "    def __repr__(self):\n",
            "        return'sum\n"
          ]
        }
      ]
    },
    {
      "cell_type": "code",
      "source": [
        "code_segment = str(input(\"Enter the incomplete code snippet: \"))\n",
        "sequences = pipe(\n",
        "    code_segment,\n",
        "    do_sample=True,\n",
        "    temperature=0.2,\n",
        "    top_p=0.9,\n",
        "    num_return_sequences=1,\n",
        "    eos_token_id=tokenizer.eos_token_id,\n",
        "    max_length=100,\n",
        ")\n",
        "for seq in sequences:\n",
        "    print(f\"Result: \\n{seq['generated_text']}\")"
      ],
      "metadata": {
        "colab": {
          "base_uri": "https://localhost:8080/"
        },
        "id": "7ftMJvQinifh",
        "outputId": "6d2fa120-68e9-4084-a5b5-88e8f7d03ac3"
      },
      "execution_count": 13,
      "outputs": [
        {
          "name": "stdout",
          "output_type": "stream",
          "text": [
            "Enter the incomplete code snippet: def sum(a,b\n"
          ]
        },
        {
          "output_type": "stream",
          "name": "stderr",
          "text": [
            "Setting `pad_token_id` to `eos_token_id`:2 for open-end generation.\n"
          ]
        },
        {
          "output_type": "stream",
          "name": "stdout",
          "text": [
            "Result: \n",
            "def sum(a,b)\n",
            "    return a+b\n",
            "end\n",
            "\n",
            "function sum(a,b,c)\n",
            "    return a+b+c\n",
            "end\n",
            "\n",
            "function sum(a,b,c,d)\n",
            "    return a+b+c+d\n",
            "end\n",
            "\n",
            "function sum(a,b,c,d,e)\n",
            "    return a+b+c+d+e\n",
            "end\n",
            "\n",
            "function sum(a,b,c\n"
          ]
        }
      ]
    }
  ]
}